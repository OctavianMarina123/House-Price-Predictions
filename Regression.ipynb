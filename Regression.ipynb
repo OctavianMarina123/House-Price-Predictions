{
 "cells": [
  {
   "cell_type": "markdown",
   "source": [
    "# 1. Import Data"
   ],
   "metadata": {
    "collapsed": false
   },
   "id": "4bda10ad0f34ecf"
  },
  {
   "cell_type": "code",
   "outputs": [
    {
     "name": "stdout",
     "output_type": "stream",
     "text": [
      "Requirement already satisfied: pandas in /Users/octamarina/miniconda3/envs/untitled/lib/python3.8/site-packages (2.0.3)\r\n",
      "Collecting scikit-learn\r\n",
      "  Using cached scikit_learn-1.3.2-cp38-cp38-macosx_12_0_arm64.whl.metadata (11 kB)\r\n",
      "Collecting xgboost\r\n",
      "  Using cached xgboost-2.1.3-py3-none-macosx_12_0_arm64.whl.metadata (2.1 kB)\r\n",
      "Collecting dill\r\n",
      "  Using cached dill-0.3.9-py3-none-any.whl.metadata (10 kB)\r\n",
      "Requirement already satisfied: python-dateutil>=2.8.2 in /Users/octamarina/miniconda3/envs/untitled/lib/python3.8/site-packages (from pandas) (2.9.0.post0)\r\n",
      "Requirement already satisfied: pytz>=2020.1 in /Users/octamarina/miniconda3/envs/untitled/lib/python3.8/site-packages (from pandas) (2024.1)\r\n",
      "Requirement already satisfied: tzdata>=2022.1 in /Users/octamarina/miniconda3/envs/untitled/lib/python3.8/site-packages (from pandas) (2023.3)\r\n",
      "Requirement already satisfied: numpy>=1.20.3 in /Users/octamarina/miniconda3/envs/untitled/lib/python3.8/site-packages (from pandas) (1.24.3)\r\n",
      "Collecting scipy>=1.5.0 (from scikit-learn)\r\n",
      "  Using cached scipy-1.10.1-cp38-cp38-macosx_12_0_arm64.whl.metadata (53 kB)\r\n",
      "Collecting joblib>=1.1.1 (from scikit-learn)\r\n",
      "  Using cached joblib-1.4.2-py3-none-any.whl.metadata (5.4 kB)\r\n",
      "Collecting threadpoolctl>=2.0.0 (from scikit-learn)\r\n",
      "  Using cached threadpoolctl-3.5.0-py3-none-any.whl.metadata (13 kB)\r\n",
      "Requirement already satisfied: six>=1.5 in /Users/octamarina/miniconda3/envs/untitled/lib/python3.8/site-packages (from python-dateutil>=2.8.2->pandas) (1.16.0)\r\n",
      "Using cached scikit_learn-1.3.2-cp38-cp38-macosx_12_0_arm64.whl (9.4 MB)\r\n",
      "Using cached xgboost-2.1.3-py3-none-macosx_12_0_arm64.whl (1.9 MB)\r\n",
      "Using cached dill-0.3.9-py3-none-any.whl (119 kB)\r\n",
      "Using cached joblib-1.4.2-py3-none-any.whl (301 kB)\r\n",
      "Using cached scipy-1.10.1-cp38-cp38-macosx_12_0_arm64.whl (28.8 MB)\r\n",
      "Using cached threadpoolctl-3.5.0-py3-none-any.whl (18 kB)\r\n",
      "Installing collected packages: threadpoolctl, scipy, joblib, dill, xgboost, scikit-learn\r\n",
      "Successfully installed dill-0.3.9 joblib-1.4.2 scikit-learn-1.3.2 scipy-1.10.1 threadpoolctl-3.5.0 xgboost-2.1.3\r\n"
     ]
    }
   ],
   "source": [
    "!pip install pandas scikit-learn xgboost dill"
   ],
   "metadata": {
    "collapsed": true,
    "ExecuteTime": {
     "end_time": "2024-12-11T17:17:11.564194Z",
     "start_time": "2024-12-11T17:17:07.659844Z"
    }
   },
   "id": "initial_id",
   "execution_count": 39
  },
  {
   "cell_type": "code",
   "outputs": [],
   "source": [
    "import pandas as pd"
   ],
   "metadata": {
    "collapsed": false,
    "ExecuteTime": {
     "end_time": "2024-12-11T17:17:11.569782Z",
     "start_time": "2024-12-11T17:17:11.565592Z"
    }
   },
   "id": "3b88f85fd42a4844",
   "execution_count": 40
  },
  {
   "cell_type": "code",
   "outputs": [],
   "source": [
    "df = pd.read_csv(\"regressiondata.csv\",index_col=\"ID\")"
   ],
   "metadata": {
    "collapsed": false,
    "ExecuteTime": {
     "end_time": "2024-12-11T17:17:11.577801Z",
     "start_time": "2024-12-11T17:17:11.568853Z"
    }
   },
   "id": "e287dcfb76797cfd",
   "execution_count": 41
  },
  {
   "cell_type": "code",
   "outputs": [
    {
     "data": {
      "text/plain": "    TransactionDate  HouseAge  DistanceToStation  NumberOfPubs  PostCode  \\\nID                                                                         \n0           2020.12      17.0         467.644775           4.0    5222.0   \n1           2021.04      36.0         659.924963           3.0    5222.0   \n2           2019.04      38.0         305.475941           7.0    5213.0   \n3           2021.10      11.0         607.034754           5.0    5213.0   \n4           2021.02      14.0         378.827222           5.0    5614.0   \n\n   HousePrice  \nID             \n0      467104  \n1      547714  \n2      277232  \n3      295958  \n4      439963  ",
      "text/html": "<div>\n<style scoped>\n    .dataframe tbody tr th:only-of-type {\n        vertical-align: middle;\n    }\n\n    .dataframe tbody tr th {\n        vertical-align: top;\n    }\n\n    .dataframe thead th {\n        text-align: right;\n    }\n</style>\n<table border=\"1\" class=\"dataframe\">\n  <thead>\n    <tr style=\"text-align: right;\">\n      <th></th>\n      <th>TransactionDate</th>\n      <th>HouseAge</th>\n      <th>DistanceToStation</th>\n      <th>NumberOfPubs</th>\n      <th>PostCode</th>\n      <th>HousePrice</th>\n    </tr>\n    <tr>\n      <th>ID</th>\n      <th></th>\n      <th></th>\n      <th></th>\n      <th></th>\n      <th></th>\n      <th></th>\n    </tr>\n  </thead>\n  <tbody>\n    <tr>\n      <th>0</th>\n      <td>2020.12</td>\n      <td>17.0</td>\n      <td>467.644775</td>\n      <td>4.0</td>\n      <td>5222.0</td>\n      <td>467104</td>\n    </tr>\n    <tr>\n      <th>1</th>\n      <td>2021.04</td>\n      <td>36.0</td>\n      <td>659.924963</td>\n      <td>3.0</td>\n      <td>5222.0</td>\n      <td>547714</td>\n    </tr>\n    <tr>\n      <th>2</th>\n      <td>2019.04</td>\n      <td>38.0</td>\n      <td>305.475941</td>\n      <td>7.0</td>\n      <td>5213.0</td>\n      <td>277232</td>\n    </tr>\n    <tr>\n      <th>3</th>\n      <td>2021.10</td>\n      <td>11.0</td>\n      <td>607.034754</td>\n      <td>5.0</td>\n      <td>5213.0</td>\n      <td>295958</td>\n    </tr>\n    <tr>\n      <th>4</th>\n      <td>2021.02</td>\n      <td>14.0</td>\n      <td>378.827222</td>\n      <td>5.0</td>\n      <td>5614.0</td>\n      <td>439963</td>\n    </tr>\n  </tbody>\n</table>\n</div>"
     },
     "execution_count": 42,
     "metadata": {},
     "output_type": "execute_result"
    }
   ],
   "source": [
    "df.head()"
   ],
   "metadata": {
    "collapsed": false,
    "ExecuteTime": {
     "end_time": "2024-12-11T17:17:11.586089Z",
     "start_time": "2024-12-11T17:17:11.582412Z"
    }
   },
   "id": "722bdfba7bf696bc",
   "execution_count": 42
  },
  {
   "cell_type": "code",
   "outputs": [
    {
     "data": {
      "text/plain": "(TransactionDate         2020.06\n HouseAge                   15.0\n DistanceToStation    1715.61405\n NumberOfPubs                2.0\n PostCode                 5212.0\n HousePrice               153989\n Name: 320, dtype: object,\n 56136)"
     },
     "execution_count": 46,
     "metadata": {},
     "output_type": "execute_result"
    }
   ],
   "source": [
    "df.iloc[320]"
   ],
   "metadata": {
    "collapsed": false,
    "ExecuteTime": {
     "end_time": "2024-12-11T17:18:10.891100Z",
     "start_time": "2024-12-11T17:18:10.881640Z"
    }
   },
   "id": "ddd6645f86e7922e",
   "execution_count": 46
  },
  {
   "cell_type": "code",
   "outputs": [
    {
     "data": {
      "text/plain": "56136"
     },
     "execution_count": 47,
     "metadata": {},
     "output_type": "execute_result"
    }
   ],
   "source": [
    "df.size"
   ],
   "metadata": {
    "collapsed": false,
    "ExecuteTime": {
     "end_time": "2024-12-11T17:18:17.150212Z",
     "start_time": "2024-12-11T17:18:17.145654Z"
    }
   },
   "id": "2ad84a7218911c68",
   "execution_count": 47
  },
  {
   "cell_type": "markdown",
   "source": [
    "# Split Data"
   ],
   "metadata": {
    "collapsed": false
   },
   "id": "98c0fc469cc98360"
  },
  {
   "cell_type": "code",
   "outputs": [],
   "source": [
    "from sklearn.model_selection import train_test_split\n",
    "train,test = train_test_split(df,test_size=0.3, random_state=1234)"
   ],
   "metadata": {
    "collapsed": false,
    "ExecuteTime": {
     "end_time": "2024-12-11T17:28:35.671918Z",
     "start_time": "2024-12-11T17:28:18.939002Z"
    }
   },
   "id": "c502988af14784fc",
   "execution_count": 48
  },
  {
   "cell_type": "code",
   "outputs": [
    {
     "data": {
      "text/plain": "      TransactionDate  HouseAge  DistanceToStation  NumberOfPubs  PostCode  \\\nID                                                                           \n8450          2021.02      34.0         460.994365           8.0    5614.0   \n5758          2020.01      17.0         614.851833           3.0    5213.0   \n4030          2021.06      34.0         285.892687           9.0    5614.0   \n8447          2020.12       0.0         195.213314           6.0    5222.0   \n4370          2019.03      34.0         124.082230           8.0    5212.0   \n\n     HousePrice  \nID               \n8450     460286  \n5758     253332  \n4030     486532  \n8447     595168  \n4370     250495  ",
      "text/html": "<div>\n<style scoped>\n    .dataframe tbody tr th:only-of-type {\n        vertical-align: middle;\n    }\n\n    .dataframe tbody tr th {\n        vertical-align: top;\n    }\n\n    .dataframe thead th {\n        text-align: right;\n    }\n</style>\n<table border=\"1\" class=\"dataframe\">\n  <thead>\n    <tr style=\"text-align: right;\">\n      <th></th>\n      <th>TransactionDate</th>\n      <th>HouseAge</th>\n      <th>DistanceToStation</th>\n      <th>NumberOfPubs</th>\n      <th>PostCode</th>\n      <th>HousePrice</th>\n    </tr>\n    <tr>\n      <th>ID</th>\n      <th></th>\n      <th></th>\n      <th></th>\n      <th></th>\n      <th></th>\n      <th></th>\n    </tr>\n  </thead>\n  <tbody>\n    <tr>\n      <th>8450</th>\n      <td>2021.02</td>\n      <td>34.0</td>\n      <td>460.994365</td>\n      <td>8.0</td>\n      <td>5614.0</td>\n      <td>460286</td>\n    </tr>\n    <tr>\n      <th>5758</th>\n      <td>2020.01</td>\n      <td>17.0</td>\n      <td>614.851833</td>\n      <td>3.0</td>\n      <td>5213.0</td>\n      <td>253332</td>\n    </tr>\n    <tr>\n      <th>4030</th>\n      <td>2021.06</td>\n      <td>34.0</td>\n      <td>285.892687</td>\n      <td>9.0</td>\n      <td>5614.0</td>\n      <td>486532</td>\n    </tr>\n    <tr>\n      <th>8447</th>\n      <td>2020.12</td>\n      <td>0.0</td>\n      <td>195.213314</td>\n      <td>6.0</td>\n      <td>5222.0</td>\n      <td>595168</td>\n    </tr>\n    <tr>\n      <th>4370</th>\n      <td>2019.03</td>\n      <td>34.0</td>\n      <td>124.082230</td>\n      <td>8.0</td>\n      <td>5212.0</td>\n      <td>250495</td>\n    </tr>\n  </tbody>\n</table>\n</div>"
     },
     "execution_count": 49,
     "metadata": {},
     "output_type": "execute_result"
    }
   ],
   "source": [
    "train.head()"
   ],
   "metadata": {
    "collapsed": false,
    "ExecuteTime": {
     "end_time": "2024-12-11T17:28:35.688094Z",
     "start_time": "2024-12-11T17:28:35.683097Z"
    }
   },
   "id": "7a02d4bc7997d547",
   "execution_count": 49
  },
  {
   "cell_type": "markdown",
   "source": [
    "# Data Analysis"
   ],
   "metadata": {
    "collapsed": false
   },
   "id": "af762c04ffda01df"
  },
  {
   "cell_type": "code",
   "outputs": [
    {
     "data": {
      "text/plain": "TransactionDate      float64\nHouseAge             float64\nDistanceToStation    float64\nNumberOfPubs         float64\nPostCode             float64\nHousePrice            object\ndtype: object"
     },
     "execution_count": 50,
     "metadata": {},
     "output_type": "execute_result"
    }
   ],
   "source": [
    "train.dtypes"
   ],
   "metadata": {
    "collapsed": false,
    "ExecuteTime": {
     "end_time": "2024-12-11T17:33:22.132422Z",
     "start_time": "2024-12-11T17:33:22.125349Z"
    }
   },
   "id": "b4fe529b80cc2930",
   "execution_count": 50
  },
  {
   "cell_type": "code",
   "outputs": [
    {
     "data": {
      "text/plain": "'460286'"
     },
     "execution_count": 51,
     "metadata": {},
     "output_type": "execute_result"
    }
   ],
   "source": [
    "train.iloc[0]['HousePrice']"
   ],
   "metadata": {
    "collapsed": false,
    "ExecuteTime": {
     "end_time": "2024-12-11T17:35:59.794925Z",
     "start_time": "2024-12-11T17:35:59.791397Z"
    }
   },
   "id": "1ff348b5e286a1c3",
   "execution_count": 51
  },
  {
   "cell_type": "markdown",
   "source": [
    "House price is a string which is not alright.\n",
    "Post Code should be a category\n",
    "Transaction Date is a float which is not good."
   ],
   "metadata": {
    "collapsed": false
   },
   "id": "ce5fabad5eb10a8e"
  },
  {
   "cell_type": "code",
   "outputs": [
    {
     "name": "stdout",
     "output_type": "stream",
     "text": [
      "<class 'pandas.core.frame.DataFrame'>\n",
      "Index: 6549 entries, 8450 to 8915\n",
      "Data columns (total 6 columns):\n",
      " #   Column             Non-Null Count  Dtype  \n",
      "---  ------             --------------  -----  \n",
      " 0   TransactionDate    6548 non-null   float64\n",
      " 1   HouseAge           6546 non-null   float64\n",
      " 2   DistanceToStation  6547 non-null   float64\n",
      " 3   NumberOfPubs       6547 non-null   float64\n",
      " 4   PostCode           6547 non-null   float64\n",
      " 5   HousePrice         6544 non-null   object \n",
      "dtypes: float64(5), object(1)\n",
      "memory usage: 358.1+ KB\n"
     ]
    }
   ],
   "source": [
    "train.info()"
   ],
   "metadata": {
    "collapsed": false,
    "ExecuteTime": {
     "end_time": "2024-12-11T17:43:35.751478Z",
     "start_time": "2024-12-11T17:43:35.724681Z"
    }
   },
   "id": "21c35d6afda3c9a4",
   "execution_count": 52
  },
  {
   "cell_type": "code",
   "outputs": [
    {
     "data": {
      "text/plain": "       TransactionDate     HouseAge  DistanceToStation  NumberOfPubs  \\\ncount      6548.000000  6546.000000        6547.000000  6.547000e+03   \nmean       2020.072389    17.375344        1091.759504  7.677828e+02   \nstd           0.815922    11.469272        1270.038426  6.179430e+04   \nmin        2019.010000     0.000000          23.829424  0.000000e+00   \n25%        2019.100000     9.000000         268.649033  1.000000e+00   \n50%        2020.070000    15.000000         545.312168  4.000000e+00   \n75%        2021.040000    28.000000        1529.343484  6.000000e+00   \nmax        2021.120000    43.000000        6486.256457  4.999999e+06   \n\n          PostCode  \ncount  6547.000000  \nmean   5294.499160  \nstd     158.397718  \nmin    5212.000000  \n25%    5213.000000  \n50%    5217.000000  \n75%    5222.000000  \nmax    5614.000000  ",
      "text/html": "<div>\n<style scoped>\n    .dataframe tbody tr th:only-of-type {\n        vertical-align: middle;\n    }\n\n    .dataframe tbody tr th {\n        vertical-align: top;\n    }\n\n    .dataframe thead th {\n        text-align: right;\n    }\n</style>\n<table border=\"1\" class=\"dataframe\">\n  <thead>\n    <tr style=\"text-align: right;\">\n      <th></th>\n      <th>TransactionDate</th>\n      <th>HouseAge</th>\n      <th>DistanceToStation</th>\n      <th>NumberOfPubs</th>\n      <th>PostCode</th>\n    </tr>\n  </thead>\n  <tbody>\n    <tr>\n      <th>count</th>\n      <td>6548.000000</td>\n      <td>6546.000000</td>\n      <td>6547.000000</td>\n      <td>6.547000e+03</td>\n      <td>6547.000000</td>\n    </tr>\n    <tr>\n      <th>mean</th>\n      <td>2020.072389</td>\n      <td>17.375344</td>\n      <td>1091.759504</td>\n      <td>7.677828e+02</td>\n      <td>5294.499160</td>\n    </tr>\n    <tr>\n      <th>std</th>\n      <td>0.815922</td>\n      <td>11.469272</td>\n      <td>1270.038426</td>\n      <td>6.179430e+04</td>\n      <td>158.397718</td>\n    </tr>\n    <tr>\n      <th>min</th>\n      <td>2019.010000</td>\n      <td>0.000000</td>\n      <td>23.829424</td>\n      <td>0.000000e+00</td>\n      <td>5212.000000</td>\n    </tr>\n    <tr>\n      <th>25%</th>\n      <td>2019.100000</td>\n      <td>9.000000</td>\n      <td>268.649033</td>\n      <td>1.000000e+00</td>\n      <td>5213.000000</td>\n    </tr>\n    <tr>\n      <th>50%</th>\n      <td>2020.070000</td>\n      <td>15.000000</td>\n      <td>545.312168</td>\n      <td>4.000000e+00</td>\n      <td>5217.000000</td>\n    </tr>\n    <tr>\n      <th>75%</th>\n      <td>2021.040000</td>\n      <td>28.000000</td>\n      <td>1529.343484</td>\n      <td>6.000000e+00</td>\n      <td>5222.000000</td>\n    </tr>\n    <tr>\n      <th>max</th>\n      <td>2021.120000</td>\n      <td>43.000000</td>\n      <td>6486.256457</td>\n      <td>4.999999e+06</td>\n      <td>5614.000000</td>\n    </tr>\n  </tbody>\n</table>\n</div>"
     },
     "execution_count": 53,
     "metadata": {},
     "output_type": "execute_result"
    }
   ],
   "source": [
    "# Create summary statistics\n",
    "train.describe() # get statistics on numerical columns"
   ],
   "metadata": {
    "collapsed": false,
    "ExecuteTime": {
     "end_time": "2024-12-11T17:45:27.574142Z",
     "start_time": "2024-12-11T17:45:27.561880Z"
    }
   },
   "id": "f6d1cb132fc5218",
   "execution_count": 53
  },
  {
   "cell_type": "code",
   "outputs": [],
   "source": [
    "# Type cast incorrect datatypes to new datatypes\n",
    "train[\"PostCode\"] = train[\"PostCode\"].astype(str)\n",
    "train[\"TransactionDate\"] = train[\"TransactionDate\"].astype(str)\n",
    "# train[\"HousePrice\"] = train[\"HousePrice\"].astype(float)"
   ],
   "metadata": {
    "collapsed": false,
    "ExecuteTime": {
     "end_time": "2024-12-11T17:50:37.451965Z",
     "start_time": "2024-12-11T17:50:37.447319Z"
    }
   },
   "id": "64f012f900bbc261",
   "execution_count": 54
  },
  {
   "cell_type": "code",
   "outputs": [
    {
     "data": {
      "text/plain": "       TransactionDate PostCode HousePrice\ncount             6549     6549       6544\nunique              37        6       6496\ntop            2019.01   5212.0     290262\nfreq               212     1338          2",
      "text/html": "<div>\n<style scoped>\n    .dataframe tbody tr th:only-of-type {\n        vertical-align: middle;\n    }\n\n    .dataframe tbody tr th {\n        vertical-align: top;\n    }\n\n    .dataframe thead th {\n        text-align: right;\n    }\n</style>\n<table border=\"1\" class=\"dataframe\">\n  <thead>\n    <tr style=\"text-align: right;\">\n      <th></th>\n      <th>TransactionDate</th>\n      <th>PostCode</th>\n      <th>HousePrice</th>\n    </tr>\n  </thead>\n  <tbody>\n    <tr>\n      <th>count</th>\n      <td>6549</td>\n      <td>6549</td>\n      <td>6544</td>\n    </tr>\n    <tr>\n      <th>unique</th>\n      <td>37</td>\n      <td>6</td>\n      <td>6496</td>\n    </tr>\n    <tr>\n      <th>top</th>\n      <td>2019.01</td>\n      <td>5212.0</td>\n      <td>290262</td>\n    </tr>\n    <tr>\n      <th>freq</th>\n      <td>212</td>\n      <td>1338</td>\n      <td>2</td>\n    </tr>\n  </tbody>\n</table>\n</div>"
     },
     "execution_count": 56,
     "metadata": {},
     "output_type": "execute_result"
    }
   ],
   "source": [
    "# Create summary statistics for non-numeric features\n",
    "train.describe(include=\"object\")"
   ],
   "metadata": {
    "collapsed": false,
    "ExecuteTime": {
     "end_time": "2024-12-11T17:53:08.171406Z",
     "start_time": "2024-12-11T17:53:08.158459Z"
    }
   },
   "id": "c44959a3c443ddd2",
   "execution_count": 56
  },
  {
   "cell_type": "code",
   "outputs": [
    {
     "name": "stdout",
     "output_type": "stream",
     "text": [
      "Collecting matplotlib\r\n",
      "  Using cached matplotlib-3.7.5-cp38-cp38-macosx_11_0_arm64.whl.metadata (5.7 kB)\r\n",
      "Collecting seaborn\r\n",
      "  Using cached seaborn-0.13.2-py3-none-any.whl.metadata (5.4 kB)\r\n",
      "Collecting contourpy>=1.0.1 (from matplotlib)\r\n",
      "  Using cached contourpy-1.1.1-cp38-cp38-macosx_11_0_arm64.whl.metadata (5.9 kB)\r\n",
      "Collecting cycler>=0.10 (from matplotlib)\r\n",
      "  Using cached cycler-0.12.1-py3-none-any.whl.metadata (3.8 kB)\r\n",
      "Collecting fonttools>=4.22.0 (from matplotlib)\r\n",
      "  Downloading fonttools-4.55.3-cp38-cp38-macosx_10_9_universal2.whl.metadata (165 kB)\r\n",
      "Collecting kiwisolver>=1.0.1 (from matplotlib)\r\n",
      "  Using cached kiwisolver-1.4.7-cp38-cp38-macosx_11_0_arm64.whl.metadata (6.3 kB)\r\n",
      "Requirement already satisfied: numpy<2,>=1.20 in /Users/octamarina/miniconda3/envs/untitled/lib/python3.8/site-packages (from matplotlib) (1.24.3)\r\n",
      "Requirement already satisfied: packaging>=20.0 in /Users/octamarina/miniconda3/envs/untitled/lib/python3.8/site-packages (from matplotlib) (24.1)\r\n",
      "Collecting pillow>=6.2.0 (from matplotlib)\r\n",
      "  Using cached pillow-10.4.0-cp38-cp38-macosx_11_0_arm64.whl.metadata (9.2 kB)\r\n",
      "Collecting pyparsing>=2.3.1 (from matplotlib)\r\n",
      "  Using cached pyparsing-3.1.4-py3-none-any.whl.metadata (5.1 kB)\r\n",
      "Requirement already satisfied: python-dateutil>=2.7 in /Users/octamarina/miniconda3/envs/untitled/lib/python3.8/site-packages (from matplotlib) (2.9.0.post0)\r\n",
      "Requirement already satisfied: importlib-resources>=3.2.0 in /Users/octamarina/miniconda3/envs/untitled/lib/python3.8/site-packages (from matplotlib) (6.4.0)\r\n",
      "Requirement already satisfied: pandas>=1.2 in /Users/octamarina/miniconda3/envs/untitled/lib/python3.8/site-packages (from seaborn) (2.0.3)\r\n",
      "Requirement already satisfied: zipp>=3.1.0 in /Users/octamarina/miniconda3/envs/untitled/lib/python3.8/site-packages (from importlib-resources>=3.2.0->matplotlib) (3.20.2)\r\n",
      "Requirement already satisfied: pytz>=2020.1 in /Users/octamarina/miniconda3/envs/untitled/lib/python3.8/site-packages (from pandas>=1.2->seaborn) (2024.1)\r\n",
      "Requirement already satisfied: tzdata>=2022.1 in /Users/octamarina/miniconda3/envs/untitled/lib/python3.8/site-packages (from pandas>=1.2->seaborn) (2023.3)\r\n",
      "Requirement already satisfied: six>=1.5 in /Users/octamarina/miniconda3/envs/untitled/lib/python3.8/site-packages (from python-dateutil>=2.7->matplotlib) (1.16.0)\r\n",
      "Using cached matplotlib-3.7.5-cp38-cp38-macosx_11_0_arm64.whl (7.3 MB)\r\n",
      "Using cached seaborn-0.13.2-py3-none-any.whl (294 kB)\r\n",
      "Using cached contourpy-1.1.1-cp38-cp38-macosx_11_0_arm64.whl (232 kB)\r\n",
      "Using cached cycler-0.12.1-py3-none-any.whl (8.3 kB)\r\n",
      "Downloading fonttools-4.55.3-cp38-cp38-macosx_10_9_universal2.whl (2.8 MB)\r\n",
      "\u001B[2K   \u001B[90m━━━━━━━━━━━━━━━━━━━━━━━━━━━━━━━━━━━━━━━━\u001B[0m \u001B[32m2.8/2.8 MB\u001B[0m \u001B[31m10.7 MB/s\u001B[0m eta \u001B[36m0:00:00\u001B[0ma \u001B[36m0:00:01\u001B[0m\r\n",
      "\u001B[?25hUsing cached kiwisolver-1.4.7-cp38-cp38-macosx_11_0_arm64.whl (64 kB)\r\n",
      "Using cached pillow-10.4.0-cp38-cp38-macosx_11_0_arm64.whl (3.4 MB)\r\n",
      "Using cached pyparsing-3.1.4-py3-none-any.whl (104 kB)\r\n",
      "Installing collected packages: pyparsing, pillow, kiwisolver, fonttools, cycler, contourpy, matplotlib, seaborn\r\n",
      "Successfully installed contourpy-1.1.1 cycler-0.12.1 fonttools-4.55.3 kiwisolver-1.4.7 matplotlib-3.7.5 pillow-10.4.0 pyparsing-3.1.4 seaborn-0.13.2\r\n"
     ]
    }
   ],
   "source": [
    "!pip install matplotlib seaborn"
   ],
   "metadata": {
    "collapsed": false,
    "ExecuteTime": {
     "end_time": "2024-12-11T17:57:03.350910Z",
     "start_time": "2024-12-11T17:57:00.037527Z"
    }
   },
   "id": "f15ea734abf5853c",
   "execution_count": 57
  },
  {
   "cell_type": "markdown",
   "source": [
    "## Visualizations"
   ],
   "metadata": {
    "collapsed": false
   },
   "id": "2b3463cc5ffc5a96"
  },
  {
   "cell_type": "code",
   "outputs": [],
   "source": [
    "from matplotlib import pyplot as plt\n",
    "import seaborn as sns"
   ],
   "metadata": {
    "collapsed": false,
    "ExecuteTime": {
     "end_time": "2024-12-11T17:59:18.675230Z",
     "start_time": "2024-12-11T17:59:15.791430Z"
    }
   },
   "id": "fd388f0f05337a83",
   "execution_count": 59
  },
  {
   "cell_type": "code",
   "outputs": [
    {
     "data": {
      "text/plain": "<Figure size 1000x800 with 4 Axes>",
      "image/png": "[encoded data removed]"
     },
     "metadata": {},
     "output_type": "display_data"
    }
   ],
   "source": [
    "train.hist(figsize=(10,8), bins=50)\n",
    "plt.show()"
   ],
   "metadata": {
    "collapsed": false,
    "ExecuteTime": {
     "end_time": "2024-12-11T18:01:08.574415Z",
     "start_time": "2024-12-11T18:01:08.376956Z"
    }
   },
   "id": "3622403e2b7d5169",
   "execution_count": 64
  },
  {
   "cell_type": "code",
   "outputs": [
    {
     "data": {
      "text/plain": "Empty DataFrame\nColumns: [TransactionDate, HouseAge, DistanceToStation, NumberOfPubs, PostCode, HousePrice]\nIndex: []",
      "text/html": "<div>\n<style scoped>\n    .dataframe tbody tr th:only-of-type {\n        vertical-align: middle;\n    }\n\n    .dataframe tbody tr th {\n        vertical-align: top;\n    }\n\n    .dataframe thead th {\n        text-align: right;\n    }\n</style>\n<table border=\"1\" class=\"dataframe\">\n  <thead>\n    <tr style=\"text-align: right;\">\n      <th></th>\n      <th>TransactionDate</th>\n      <th>HouseAge</th>\n      <th>DistanceToStation</th>\n      <th>NumberOfPubs</th>\n      <th>PostCode</th>\n      <th>HousePrice</th>\n    </tr>\n    <tr>\n      <th>ID</th>\n      <th></th>\n      <th></th>\n      <th></th>\n      <th></th>\n      <th></th>\n      <th></th>\n    </tr>\n  </thead>\n  <tbody>\n  </tbody>\n</table>\n</div>"
     },
     "execution_count": 69,
     "metadata": {},
     "output_type": "execute_result"
    }
   ],
   "source": [
    "# Find the ?? in the dataset\n",
    "train[train['HousePrice']=='??']"
   ],
   "metadata": {
    "collapsed": false,
    "ExecuteTime": {
     "end_time": "2024-12-11T19:43:34.695338Z",
     "start_time": "2024-12-11T19:43:34.691835Z"
    }
   },
   "id": "1bcba3c997cea33c",
   "execution_count": 69
  },
  {
   "cell_type": "code",
   "outputs": [],
   "source": [
    "# Drop the rows that equal '??'\n",
    "train = train[train['HousePrice']!='??']"
   ],
   "metadata": {
    "collapsed": false,
    "ExecuteTime": {
     "end_time": "2024-12-11T19:43:37.946318Z",
     "start_time": "2024-12-11T19:43:37.938532Z"
    }
   },
   "id": "d305b019dc0c19ac",
   "execution_count": 70
  },
  {
   "cell_type": "code",
   "outputs": [],
   "source": [
    "train['HousePrice']=train['HousePrice'].astype(float)"
   ],
   "metadata": {
    "collapsed": false,
    "ExecuteTime": {
     "end_time": "2024-12-11T19:45:11.857317Z",
     "start_time": "2024-12-11T19:45:11.852456Z"
    }
   },
   "id": "1df919c0ed548ad8",
   "execution_count": 73
  },
  {
   "cell_type": "code",
   "outputs": [
    {
     "data": {
      "text/plain": "TransactionDate       object\nHouseAge             float64\nDistanceToStation    float64\nNumberOfPubs         float64\nPostCode              object\nHousePrice           float64\ndtype: object"
     },
     "execution_count": 76,
     "metadata": {},
     "output_type": "execute_result"
    }
   ],
   "source": [
    "train.dtypes"
   ],
   "metadata": {
    "collapsed": false,
    "ExecuteTime": {
     "end_time": "2024-12-11T19:45:37.468734Z",
     "start_time": "2024-12-11T19:45:37.461709Z"
    }
   },
   "id": "1f1249d9dd1ef89e",
   "execution_count": 76
  },
  {
   "cell_type": "code",
   "outputs": [
    {
     "data": {
      "text/plain": "<Figure size 640x480 with 1 Axes>",
      "image/png": "[encoded data removed]"
     },
     "metadata": {},
     "output_type": "display_data"
    }
   ],
   "source": [
    "plt.title('Box Plot for House Price')\n",
    "sns.boxplot(x=train['HousePrice'])\n",
    "plt.show()"
   ],
   "metadata": {
    "collapsed": false,
    "ExecuteTime": {
     "end_time": "2024-12-11T19:46:55.097188Z",
     "start_time": "2024-12-11T19:46:55.045458Z"
    }
   },
   "id": "cb9ca74c3457528e",
   "execution_count": 77
  },
  {
   "cell_type": "markdown",
   "source": [
    "Wee see that we have an outlier\n",
    "## Drop Outlier"
   ],
   "metadata": {
    "collapsed": false
   },
   "id": "6c18c62fe3866d0d"
  },
  {
   "cell_type": "code",
   "outputs": [
    {
     "data": {
      "text/plain": "     TransactionDate  HouseAge  DistanceToStation  NumberOfPubs PostCode  \\\nID                                                                         \n9238         2019.11      10.0         169.424413           1.0   5222.0   \n149          2020.09       9.0         228.930655           1.0   5222.0   \n6066         2020.12      10.0         234.680008           1.0   5222.0   \n2749         2021.06       9.0          38.864337           1.0   5222.0   \n8445         2021.05       0.0         276.789752           9.0   5222.0   \n8103         2019.05       7.0         640.223538          10.0   5217.0   \n7673             nan       NaN        3830.892098           0.0   5217.0   \n32            2021.1      29.0         809.864711           8.0   5222.0   \n8112         2019.08      20.0         370.088151           NaN      nan   \n7670         2020.12      13.0        1837.649999           2.0      nan   \n\n      HousePrice  \nID                \n9238   1205920.0  \n149    1374277.0  \n6066   1374386.0  \n2749   1504501.0  \n8445   8989772.0  \n8103         NaN  \n7673         NaN  \n32           NaN  \n8112         NaN  \n7670         NaN  ",
      "text/html": "<div>\n<style scoped>\n    .dataframe tbody tr th:only-of-type {\n        vertical-align: middle;\n    }\n\n    .dataframe tbody tr th {\n        vertical-align: top;\n    }\n\n    .dataframe thead th {\n        text-align: right;\n    }\n</style>\n<table border=\"1\" class=\"dataframe\">\n  <thead>\n    <tr style=\"text-align: right;\">\n      <th></th>\n      <th>TransactionDate</th>\n      <th>HouseAge</th>\n      <th>DistanceToStation</th>\n      <th>NumberOfPubs</th>\n      <th>PostCode</th>\n      <th>HousePrice</th>\n    </tr>\n    <tr>\n      <th>ID</th>\n      <th></th>\n      <th></th>\n      <th></th>\n      <th></th>\n      <th></th>\n      <th></th>\n    </tr>\n  </thead>\n  <tbody>\n    <tr>\n      <th>9238</th>\n      <td>2019.11</td>\n      <td>10.0</td>\n      <td>169.424413</td>\n      <td>1.0</td>\n      <td>5222.0</td>\n      <td>1205920.0</td>\n    </tr>\n    <tr>\n      <th>149</th>\n      <td>2020.09</td>\n      <td>9.0</td>\n      <td>228.930655</td>\n      <td>1.0</td>\n      <td>5222.0</td>\n      <td>1374277.0</td>\n    </tr>\n    <tr>\n      <th>6066</th>\n      <td>2020.12</td>\n      <td>10.0</td>\n      <td>234.680008</td>\n      <td>1.0</td>\n      <td>5222.0</td>\n      <td>1374386.0</td>\n    </tr>\n    <tr>\n      <th>2749</th>\n      <td>2021.06</td>\n      <td>9.0</td>\n      <td>38.864337</td>\n      <td>1.0</td>\n      <td>5222.0</td>\n      <td>1504501.0</td>\n    </tr>\n    <tr>\n      <th>8445</th>\n      <td>2021.05</td>\n      <td>0.0</td>\n      <td>276.789752</td>\n      <td>9.0</td>\n      <td>5222.0</td>\n      <td>8989772.0</td>\n    </tr>\n    <tr>\n      <th>8103</th>\n      <td>2019.05</td>\n      <td>7.0</td>\n      <td>640.223538</td>\n      <td>10.0</td>\n      <td>5217.0</td>\n      <td>NaN</td>\n    </tr>\n    <tr>\n      <th>7673</th>\n      <td>nan</td>\n      <td>NaN</td>\n      <td>3830.892098</td>\n      <td>0.0</td>\n      <td>5217.0</td>\n      <td>NaN</td>\n    </tr>\n    <tr>\n      <th>32</th>\n      <td>2021.1</td>\n      <td>29.0</td>\n      <td>809.864711</td>\n      <td>8.0</td>\n      <td>5222.0</td>\n      <td>NaN</td>\n    </tr>\n    <tr>\n      <th>8112</th>\n      <td>2019.08</td>\n      <td>20.0</td>\n      <td>370.088151</td>\n      <td>NaN</td>\n      <td>nan</td>\n      <td>NaN</td>\n    </tr>\n    <tr>\n      <th>7670</th>\n      <td>2020.12</td>\n      <td>13.0</td>\n      <td>1837.649999</td>\n      <td>2.0</td>\n      <td>nan</td>\n      <td>NaN</td>\n    </tr>\n  </tbody>\n</table>\n</div>"
     },
     "execution_count": 82,
     "metadata": {},
     "output_type": "execute_result"
    }
   ],
   "source": [
    "# Find the outlier\n",
    "train.sort_values('HousePrice').tail(10)"
   ],
   "metadata": {
    "collapsed": false,
    "ExecuteTime": {
     "end_time": "2024-12-11T19:50:10.744816Z",
     "start_time": "2024-12-11T19:50:10.734345Z"
    }
   },
   "id": "e0eed34a42b371ca",
   "execution_count": 82
  },
  {
   "cell_type": "code",
   "outputs": [],
   "source": [
    "train = train.drop(8445)"
   ],
   "metadata": {
    "collapsed": false,
    "ExecuteTime": {
     "end_time": "2024-12-11T19:52:34.358317Z",
     "start_time": "2024-12-11T19:52:34.343801Z"
    }
   },
   "id": "39d5160f6cff62d9",
   "execution_count": 83
  },
  {
   "cell_type": "code",
   "outputs": [
    {
     "data": {
      "text/plain": "<Figure size 640x480 with 1 Axes>",
      "image/png": "[encoded data removed]"
     },
     "metadata": {},
     "output_type": "display_data"
    }
   ],
   "source": [
    "plt.title(\"Box Plot for House Price\")\n",
    "sns.boxplot(x=train['HousePrice'])\n",
    "plt.show()"
   ],
   "metadata": {
    "collapsed": false,
    "ExecuteTime": {
     "end_time": "2024-12-11T19:53:19.554819Z",
     "start_time": "2024-12-11T19:53:19.504623Z"
    }
   },
   "id": "45ba963504afbeb2",
   "execution_count": 85
  },
  {
   "cell_type": "code",
   "outputs": [
    {
     "data": {
      "text/plain": "     TransactionDate  HouseAge  DistanceToStation  NumberOfPubs PostCode  \\\nID                                                                         \n5334         2021.07      33.0         130.200701          10.0   5212.0   \n4738         2021.11      34.0          42.324197          10.0   5614.0   \n1046         2020.01      23.0         568.984852          10.0   5213.0   \n6257         2019.01      34.0          98.166618          10.0   5222.0   \n2916         2021.06       8.0         656.962289          10.0   5217.0   \n422           2019.1      32.0         164.514773          10.0   5614.0   \n5763         2020.02      33.0         326.339631          10.0   5222.0   \n13           2019.05       8.0         273.264542     4999999.0   5213.0   \n2416         2019.06       NaN                NaN           NaN   5222.0   \n8112         2019.08      20.0         370.088151           NaN      nan   \n\n      HousePrice  \nID                \n5334    326772.0  \n4738    518639.0  \n1046    312165.0  \n6257    489487.0  \n2916    511688.0  \n422     346126.0  \n5763    555253.0  \n13      356012.0  \n2416    268172.0  \n8112         NaN  ",
      "text/html": "<div>\n<style scoped>\n    .dataframe tbody tr th:only-of-type {\n        vertical-align: middle;\n    }\n\n    .dataframe tbody tr th {\n        vertical-align: top;\n    }\n\n    .dataframe thead th {\n        text-align: right;\n    }\n</style>\n<table border=\"1\" class=\"dataframe\">\n  <thead>\n    <tr style=\"text-align: right;\">\n      <th></th>\n      <th>TransactionDate</th>\n      <th>HouseAge</th>\n      <th>DistanceToStation</th>\n      <th>NumberOfPubs</th>\n      <th>PostCode</th>\n      <th>HousePrice</th>\n    </tr>\n    <tr>\n      <th>ID</th>\n      <th></th>\n      <th></th>\n      <th></th>\n      <th></th>\n      <th></th>\n      <th></th>\n    </tr>\n  </thead>\n  <tbody>\n    <tr>\n      <th>5334</th>\n      <td>2021.07</td>\n      <td>33.0</td>\n      <td>130.200701</td>\n      <td>10.0</td>\n      <td>5212.0</td>\n      <td>326772.0</td>\n    </tr>\n    <tr>\n      <th>4738</th>\n      <td>2021.11</td>\n      <td>34.0</td>\n      <td>42.324197</td>\n      <td>10.0</td>\n      <td>5614.0</td>\n      <td>518639.0</td>\n    </tr>\n    <tr>\n      <th>1046</th>\n      <td>2020.01</td>\n      <td>23.0</td>\n      <td>568.984852</td>\n      <td>10.0</td>\n      <td>5213.0</td>\n      <td>312165.0</td>\n    </tr>\n    <tr>\n      <th>6257</th>\n      <td>2019.01</td>\n      <td>34.0</td>\n      <td>98.166618</td>\n      <td>10.0</td>\n      <td>5222.0</td>\n      <td>489487.0</td>\n    </tr>\n    <tr>\n      <th>2916</th>\n      <td>2021.06</td>\n      <td>8.0</td>\n      <td>656.962289</td>\n      <td>10.0</td>\n      <td>5217.0</td>\n      <td>511688.0</td>\n    </tr>\n    <tr>\n      <th>422</th>\n      <td>2019.1</td>\n      <td>32.0</td>\n      <td>164.514773</td>\n      <td>10.0</td>\n      <td>5614.0</td>\n      <td>346126.0</td>\n    </tr>\n    <tr>\n      <th>5763</th>\n      <td>2020.02</td>\n      <td>33.0</td>\n      <td>326.339631</td>\n      <td>10.0</td>\n      <td>5222.0</td>\n      <td>555253.0</td>\n    </tr>\n    <tr>\n      <th>13</th>\n      <td>2019.05</td>\n      <td>8.0</td>\n      <td>273.264542</td>\n      <td>4999999.0</td>\n      <td>5213.0</td>\n      <td>356012.0</td>\n    </tr>\n    <tr>\n      <th>2416</th>\n      <td>2019.06</td>\n      <td>NaN</td>\n      <td>NaN</td>\n      <td>NaN</td>\n      <td>5222.0</td>\n      <td>268172.0</td>\n    </tr>\n    <tr>\n      <th>8112</th>\n      <td>2019.08</td>\n      <td>20.0</td>\n      <td>370.088151</td>\n      <td>NaN</td>\n      <td>nan</td>\n      <td>NaN</td>\n    </tr>\n  </tbody>\n</table>\n</div>"
     },
     "execution_count": 88,
     "metadata": {},
     "output_type": "execute_result"
    }
   ],
   "source": [
    "train.sort_values('NumberOfPubs').tail(10)"
   ],
   "metadata": {
    "collapsed": false,
    "ExecuteTime": {
     "end_time": "2024-12-11T19:56:35.086662Z",
     "start_time": "2024-12-11T19:56:35.074693Z"
    }
   },
   "id": "1e9f08b5c4f289fe",
   "execution_count": 88
  },
  {
   "cell_type": "code",
   "outputs": [],
   "source": [
    "# Remove the outlier\n",
    "train.drop(13, inplace=True) # equivalent to train = train.drop(13)"
   ],
   "metadata": {
    "collapsed": false,
    "ExecuteTime": {
     "end_time": "2024-12-11T19:58:21.356573Z",
     "start_time": "2024-12-11T19:58:21.345114Z"
    }
   },
   "id": "463d3a2835c9117b",
   "execution_count": 89
  },
  {
   "cell_type": "code",
   "outputs": [],
   "source": [],
   "metadata": {
    "collapsed": false
   },
   "id": "75f04b48b6a8b742"
  }
 ],
 "metadata": {
  "kernelspec": {
   "display_name": "Python 3",
   "language": "python",
   "name": "python3"
  },
  "language_info": {
   "codemirror_mode": {
    "name": "ipython",
    "version": 2
   },
   "file_extension": ".py",
   "mimetype": "text/x-python",
   "name": "python",
   "nbconvert_exporter": "python",
   "pygments_lexer": "ipython2",
   "version": "2.7.6"
  }
 },
 "nbformat": 4,
 "nbformat_minor": 5
}
